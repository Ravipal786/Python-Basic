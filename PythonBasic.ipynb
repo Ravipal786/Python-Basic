{
  "nbformat": 4,
  "nbformat_minor": 0,
  "metadata": {
    "colab": {
      "provenance": []
    },
    "kernelspec": {
      "name": "python3",
      "display_name": "Python 3"
    },
    "language_info": {
      "name": "python"
    }
  },
  "cells": [
    {
      "cell_type": "markdown",
      "source": [
        "# Theory Question\n"
      ],
      "metadata": {
        "id": "dizclECTN3r6"
      }
    },
    {
      "cell_type": "markdown",
      "source": [
        "1.  What is Python, and why is it popular ?\n",
        "    - Python is a programming language which is used for many different task\n",
        "      like web developing, software development, data science, system scripting. it is popular because for:\n",
        "     1. widely used in data industry.\n",
        "     2. Easy to learn.\n",
        "     3. Alot of libraries.\n",
        "     4. use for frontend and backend analysis\n",
        "     5. uses for automation, image processing and database.\n",
        "\n",
        "2.  What is an interpreter in Python ?     \n",
        "    - Python interpreter is a computer program that translates Python code into\n",
        "      machine code so that a computer can understand.\n",
        "      \n",
        "3.  What are pre-defined keywords in Python ?\n",
        "    - list of pre defined keywords:-\n",
        " False,None, True, and, as, assert, async, await, break, class, continue, def, del, elif, else, except, finally, for, from, global, if, import, in, is, lambda, nonlocal, not, or, ,raise, return, try, while, with, yield.\n",
        "\n",
        "4.  Can keywords be used as variable names ?\n",
        "    - No, keywords in Python cannot be used as variable names. Keywords are reserved by the Python interpreter because they have special meanings and are part of the syntax of the language.\n",
        "\n",
        "5.  What is mutability in Python ?\n",
        "    - Mutability in Python refers to the ability of an object to be changed after it is created.   \n",
        "\n",
        "6. Why are lists mutable, but tuples are immutable ?\n",
        "   - Lists are mutable because they are meant to be flexible, allowing changes to their contents.\n",
        "\n",
        "     Tuples are immutable to provide data integrity, optimize performance, and guarantee that the values they hold cannot be altered.\n",
        "\n",
        "7. What is the difference between “==” and “is” operators in Python ?\n",
        "   - In Python, the \"==\"and \"is\" operators are both used for comparison, but they serve different purposes and check different things.\n",
        "  \n",
        "  .== (Equality operator):\n",
        "\n",
        "  Purpose: The == operator checks if the values of two objects are equal.\n",
        "\n",
        " Comparison: It compares the contents of the objects to see if they are the same.\n",
        "Use case: Use == when you want to check if two objects hold the same data or values.\n",
        "\n",
        " is (Identity operator):\n",
        "\n",
        " Purpose: The is operator checks if two objects refer to the same object in memory (i.e., it checks object identity).\n",
        "\n",
        " Comparison: It compares the memory addresses (or identity) of the two objects to see if they are the same object.\n",
        "\n",
        " Use case: Use is when you want to check if two references point to the exact same object in memory.\n",
        "\n",
        "8. What are logical operators in Python ?\n",
        "  \n",
        "   - In Python, logical operators are used to perform logical operations on Boolean values (True and False). These operators are commonly used to combine conditional statements or expressions in control flow (like in if or while statements).\n",
        "    \n",
        "    There are three primary logical operators in Python:\n",
        "\n",
        "    1. and (Logical AND)\n",
        "\n",
        "    2. or (Logical OR)\n",
        "\n",
        "    3. not (Logical NOT)\n",
        "\n",
        "9.  What is type casting in Python ?\n",
        "\n",
        "    - Type casting in Python refers to the process of converting one data type to another. Python provides functions that allow you to convert a variable from one type to another, either implicitly (automatically by Python) or explicitly (manually by the programmer).\n",
        "\n",
        "10.  What is the difference between implicit and explicit type casting ?\n",
        "\n",
        "     - Implicit Type Casting :\n",
        "\n",
        "       This occurs when Python automatically converts one data type to another. It's usually done when there's no loss of data, and the conversion makes sense.\n",
        "\n",
        "       Explicit Type Casting :\n",
        "\n",
        "      This occurs when you explicitly convert a variable from one type to another using Python's built-in functions.\n",
        "\n",
        "      We use functions like int(), float(), str(), list(), tuple(), etc., to manually convert between types.\n",
        "\n",
        "11. What is the purpose of conditional statements in Python ?    \n",
        "    - Conditional statements in Python are used to make decisions in your program, allowing it to execute different actions based on whether a certain condition is true or false.\n",
        "    \n",
        "    \n",
        "12. How does the elif statement work ?\n",
        "    - The elif statement in Python is used to check multiple conditions in an if-elif-else chain. It allows you to test several conditions in sequence. If the condition of the if statement is False, Python checks the condition of the next elif statement. If that condition is also False, it continues to check subsequent elif statements, until it finds one that is True. If none of the conditions are True, the else block will be executed.     \n",
        "\n",
        "13. What is the difference between for and while loops ?\n",
        "    - In Python, both for and while loops are used for repetitive tasks, but they are structured differently and are used in different scenarios.\n",
        "\n",
        "     for Loop:\n",
        "\n",
        "     A for loop is used when you know in advance how many times you want the loop to execute or when you are iterating over a sequence (like a list, tuple, string, or range).\n",
        "\n",
        "     while Loop:\n",
        "     \n",
        "     A while loop is used when you want to repeat a block of code as long as a condition is true. You don't necessarily know how many times the loop will run in advance; it depends on the condition.\n",
        "\n",
        "14. Describe a scenario where a while loop is more suitable than a for loop ?\n",
        "    - A while loop is more suitable than a for loop in scenarios where you don't know in advance how many times the loop will need to run, and the loop should continue executing until a specific condition is met."
      ],
      "metadata": {
        "id": "w_pUGOwYYOFs"
      }
    },
    {
      "cell_type": "markdown",
      "source": [
        "# Practical Question\n",
        "\n",
        "\n"
      ],
      "metadata": {
        "id": "XzUS_2r6OIAY"
      }
    },
    {
      "cell_type": "markdown",
      "source": [
        "## 1.Write a Python program to print \"Hello, World!"
      ],
      "metadata": {
        "id": "gmhVL-TnPct0"
      }
    },
    {
      "cell_type": "code",
      "source": [
        "print(\"Hello, World!\")\n"
      ],
      "metadata": {
        "colab": {
          "base_uri": "https://localhost:8080/"
        },
        "id": "e6tseQ5IP2dx",
        "outputId": "549a00bf-7f55-4ad3-dc0f-3bbaa0927fef"
      },
      "execution_count": null,
      "outputs": [
        {
          "output_type": "stream",
          "name": "stdout",
          "text": [
            "Hello, World!\n"
          ]
        }
      ]
    },
    {
      "cell_type": "markdown",
      "source": [
        "## 2. Write a Python program that displays your name and age"
      ],
      "metadata": {
        "id": "9dbd6MjUQtVx"
      }
    },
    {
      "cell_type": "code",
      "source": [
        "print(\"Name:\" , \"Ravi kumar pal\")\n",
        "print(\"Age:\" , 28)"
      ],
      "metadata": {
        "colab": {
          "base_uri": "https://localhost:8080/"
        },
        "id": "PSsFDQ4jQ6Ai",
        "outputId": "7daaf601-ed9f-4352-e409-6267d48ca257"
      },
      "execution_count": null,
      "outputs": [
        {
          "output_type": "stream",
          "name": "stdout",
          "text": [
            "Name: Ravi kumar pal\n",
            "Age: 28\n"
          ]
        }
      ]
    },
    {
      "cell_type": "markdown",
      "source": [
        "## 3. Write code to print all the pre-defined keywords in Python using the keyword library."
      ],
      "metadata": {
        "id": "wglFhUBLSVMp"
      }
    },
    {
      "cell_type": "code",
      "source": [
        "import keyword\n",
        "\n",
        "# Get the list of all Python keywords\n",
        "\n",
        "\n",
        "# Print the list of keywords\n",
        "print(\"Python Keywords:\")\n",
        "for word in keywords:\n",
        "    print(word)\n",
        "\n"
      ],
      "metadata": {
        "colab": {
          "base_uri": "https://localhost:8080/"
        },
        "id": "ANcNhrYSSjP1",
        "outputId": "9635deda-1f98-4a7a-fe15-0a7b9cec056c"
      },
      "execution_count": null,
      "outputs": [
        {
          "output_type": "stream",
          "name": "stdout",
          "text": [
            "Python Keywords:\n",
            "False\n",
            "None\n",
            "True\n",
            "and\n",
            "as\n",
            "assert\n",
            "async\n",
            "await\n",
            "break\n",
            "class\n",
            "continue\n",
            "def\n",
            "del\n",
            "elif\n",
            "else\n",
            "except\n",
            "finally\n",
            "for\n",
            "from\n",
            "global\n",
            "if\n",
            "import\n",
            "in\n",
            "is\n",
            "lambda\n",
            "nonlocal\n",
            "not\n",
            "or\n",
            "pass\n",
            "raise\n",
            "return\n",
            "try\n",
            "while\n",
            "with\n",
            "yield\n"
          ]
        }
      ]
    },
    {
      "cell_type": "markdown",
      "source": [
        "## 4.Write a program that checks if a given word is a Python keyword."
      ],
      "metadata": {
        "id": "WBCGWr6fT6ZF"
      }
    },
    {
      "cell_type": "code",
      "source": [
        "import keyword\n",
        "\n",
        "# Input word from the user\n",
        "word = input(\"Enter a word to check if it's a Python keyword: \")\n",
        "\n",
        "# Check if the word is a Python keyword\n",
        "if keyword.iskeyword(word):\n",
        "    print(f\"'{word}' is a Python keyword.\")\n",
        "else:\n",
        "    print(f\"'{word}' is not a Python keyword.\")\n"
      ],
      "metadata": {
        "colab": {
          "base_uri": "https://localhost:8080/"
        },
        "id": "rHBo5H4PTDJ1",
        "outputId": "6154cd93-367c-405b-e622-af27128a4b60"
      },
      "execution_count": null,
      "outputs": [
        {
          "output_type": "stream",
          "name": "stdout",
          "text": [
            "Enter a word to check if it's a Python keyword: if\n",
            "'if' is a Python keyword.\n"
          ]
        }
      ]
    },
    {
      "cell_type": "markdown",
      "source": [
        "## 5.Create a list and tuple in Python, and demonstrate how attempting to change an element works differently for each."
      ],
      "metadata": {
        "id": "2dxtP2xRWJz9"
      }
    },
    {
      "cell_type": "code",
      "source": [
        "# Creating a list and a tuple\n",
        "my_list = [1, 2, 3, 4, 5]\n",
        "my_tuple = (1, 2, 3, 4, 5)\n",
        "\n",
        "# Attempting to change an element in the list (mutable)\n",
        "print(\"Original list:\", my_list)\n",
        "my_list[2] = 10  # Changing the 3rd element (index 2)\n",
        "print(\"Modified list:\", my_list)\n",
        "\n",
        "# Attempting to change an element in the tuple (immutable)\n",
        "print(\"Original tuple:\", my_tuple)\n",
        "try:\n",
        "    my_tuple[2] = 10  # Attempt to change the 3rd element (index 2)\n",
        "except TypeError as e:\n",
        "    print(\"Error while modifying tuple:\", e)\n"
      ],
      "metadata": {
        "colab": {
          "base_uri": "https://localhost:8080/"
        },
        "id": "zF9D8FGhVfUs",
        "outputId": "5a0845d6-4784-41e1-c872-5ba333733975"
      },
      "execution_count": null,
      "outputs": [
        {
          "output_type": "stream",
          "name": "stdout",
          "text": [
            "Original list: [1, 2, 3, 4, 5]\n",
            "Modified list: [1, 2, 10, 4, 5]\n",
            "Original tuple: (1, 2, 3, 4, 5)\n",
            "Error while modifying tuple: 'tuple' object does not support item assignment\n"
          ]
        }
      ]
    },
    {
      "cell_type": "markdown",
      "source": [
        "## 6. Write a function to demonstrate the behavior of mutable and immutable arguments.\n",
        "\n",
        "---\n",
        "\n"
      ],
      "metadata": {
        "id": "rGkiVNYsXQJw"
      }
    },
    {
      "cell_type": "code",
      "source": [
        "def modify_args(mutable_arg, immutable_arg):\n",
        "    # Modifying the mutable argument (list)\n",
        "    mutable_arg.append(100)\n",
        "    print(\"Inside function, mutable_arg (modified):\", mutable_arg)\n",
        "\n",
        "    # Trying to modify the immutable argument (integer)\n",
        "    immutable_arg += 50\n",
        "    print(\"Inside function, immutable_arg (modified):\", immutable_arg)\n",
        "\n",
        "# Creating a mutable argument (list) and an immutable argument (integer)\n",
        "my_list = [1, 2, 3]\n",
        "my_number = 10\n",
        "\n",
        "# Call the function with the mutable and immutable arguments\n",
        "print(\"Before function call:\")\n",
        "print(\"my_list:\", my_list)\n",
        "print(\"my_number:\", my_number)\n",
        "\n",
        "modify_args(my_list, my_number)\n",
        "\n",
        "print(\"\\nAfter function call:\")\n",
        "print(\"my_list:\", my_list)  # Mutable argument will be changed\n",
        "print(\"my_number:\", my_number)  # Immutable argument will remain the same\n"
      ],
      "metadata": {
        "colab": {
          "base_uri": "https://localhost:8080/"
        },
        "id": "f1lkL49TW9eS",
        "outputId": "36328e5b-df0c-4364-a8ad-b656196011ab"
      },
      "execution_count": null,
      "outputs": [
        {
          "output_type": "stream",
          "name": "stdout",
          "text": [
            "Before function call:\n",
            "my_list: [1, 2, 3]\n",
            "my_number: 10\n",
            "Inside function, mutable_arg (modified): [1, 2, 3, 100]\n",
            "Inside function, immutable_arg (modified): 60\n",
            "\n",
            "After function call:\n",
            "my_list: [1, 2, 3, 100]\n",
            "my_number: 10\n"
          ]
        }
      ]
    },
    {
      "cell_type": "markdown",
      "source": [
        "## 7.Write a function to demonstrate the behavior of mutable and immutable arguments."
      ],
      "metadata": {
        "id": "2DnWDNbR949q"
      }
    },
    {
      "cell_type": "code",
      "source": [
        "def modify_args(mutable_arg, immutable_arg):\n",
        "    # Modifying the mutable argument (list)\n",
        "    mutable_arg.append(100)\n",
        "    print(\"Inside function, mutable_arg (modified):\", mutable_arg)\n",
        "\n",
        "    # Trying to modify the immutable argument (integer)\n",
        "    immutable_arg += 50\n",
        "    print(\"Inside function, immutable_arg (modified):\", immutable_arg)\n",
        "\n",
        "# Creating a mutable argument (list) and an immutable argument (integer)\n",
        "my_list = [1, 2, 3]\n",
        "my_number = 10\n",
        "\n",
        "# Call the function with the mutable and immutable arguments\n",
        "print(\"Before function call:\")\n",
        "print(\"my_list:\", my_list)\n",
        "print(\"my_number:\", my_number)\n",
        "\n",
        "modify_args(my_list, my_number)\n",
        "\n",
        "print(\"\\nAfter function call:\")\n",
        "print(\"my_list:\", my_list)  # Mutable argument will be changed\n",
        "print(\"my_number:\", my_number)  # Immutable argument will remain the same\n"
      ],
      "metadata": {
        "colab": {
          "base_uri": "https://localhost:8080/"
        },
        "id": "olqHN6Ig-AjV",
        "outputId": "e5e5ae96-c537-4520-9013-acc5c07b9475"
      },
      "execution_count": 2,
      "outputs": [
        {
          "output_type": "stream",
          "name": "stdout",
          "text": [
            "Before function call:\n",
            "my_list: [1, 2, 3]\n",
            "my_number: 10\n",
            "Inside function, mutable_arg (modified): [1, 2, 3, 100]\n",
            "Inside function, immutable_arg (modified): 60\n",
            "\n",
            "After function call:\n",
            "my_list: [1, 2, 3, 100]\n",
            "my_number: 10\n"
          ]
        }
      ]
    },
    {
      "cell_type": "markdown",
      "source": [
        "## 8.Write a program to demonstrate the use of logical operators."
      ],
      "metadata": {
        "id": "HAG1c_hi-PcW"
      }
    },
    {
      "cell_type": "code",
      "source": [
        "# Example of logical operators (and, or, not)\n",
        "\n",
        "# Define two variables\n",
        "a = 5\n",
        "b = 10\n",
        "\n",
        "# Using 'and' operator: Both conditions must be True\n",
        "if a > 0 and b > 0:\n",
        "    print(f\"Both conditions are true: {a} > 0 and {b} > 0\")\n",
        "\n",
        "# Using 'or' operator: At least one condition must be True\n",
        "if a > 0 or b < 5:\n",
        "    print(f\"At least one condition is true: {a} > 0 or {b} < 5\")\n",
        "\n",
        "# Using 'not' operator: Reverses the result of the condition\n",
        "if not a < 0:\n",
        "    print(f\"The condition 'a < 0' is false, so 'not a < 0' is true\")\n",
        "\n",
        "# Combining multiple logical operators\n",
        "if a > 0 and (b > 5 or a == 5):\n",
        "    print(f\"Combined conditions: {a} > 0 and ({b} > 5 or {a} == 5)\")\n"
      ],
      "metadata": {
        "colab": {
          "base_uri": "https://localhost:8080/"
        },
        "id": "yy7cktMd-agI",
        "outputId": "6d44b5b3-f750-4a6d-878e-c890f4b8b8c1"
      },
      "execution_count": 3,
      "outputs": [
        {
          "output_type": "stream",
          "name": "stdout",
          "text": [
            "Both conditions are true: 5 > 0 and 10 > 0\n",
            "At least one condition is true: 5 > 0 or 10 < 5\n",
            "The condition 'a < 0' is false, so 'not a < 0' is true\n",
            "Combined conditions: 5 > 0 and (10 > 5 or 5 == 5)\n"
          ]
        }
      ]
    },
    {
      "cell_type": "markdown",
      "source": [
        "## 9.Write a Python program to convert user input from string to integer, float, and boolean types."
      ],
      "metadata": {
        "id": "9uBFOUvh-5mZ"
      }
    },
    {
      "cell_type": "code",
      "source": [
        "# Get user input as a string\n",
        "user_input = input(\"Enter a value: \")\n",
        "\n",
        "# Convert the string input to an integer (if possible)\n",
        "try:\n",
        "    user_int = int(user_input)\n",
        "    print(f\"Converted to integer: {user_int}\")\n",
        "except ValueError:\n",
        "    print(\"Input cannot be converted to an integer.\")\n",
        "\n",
        "# Convert the string input to a float (if possible)\n",
        "try:\n",
        "    user_float = float(user_input)\n",
        "    print(f\"Converted to float: {user_float}\")\n",
        "except ValueError:\n",
        "    print(\"Input cannot be converted to a float.\")\n",
        "\n",
        "# Convert the string input to a boolean\n",
        "# An empty string or the string 'False' converts to False, everything else is True\n",
        "if user_input.lower() == 'false' or user_input == '':\n",
        "    user_bool = False\n",
        "else:\n",
        "    user_bool = True\n",
        "\n",
        "print(f\"Converted to boolean: {user_bool}\")\n"
      ],
      "metadata": {
        "colab": {
          "base_uri": "https://localhost:8080/"
        },
        "id": "AhirVRqC-woL",
        "outputId": "4f4adbf6-5880-4dc7-e102-3445c65e04e6"
      },
      "execution_count": 4,
      "outputs": [
        {
          "output_type": "stream",
          "name": "stdout",
          "text": [
            "Enter a value: 42\n",
            "Converted to integer: 42\n",
            "Converted to float: 42.0\n",
            "Converted to boolean: True\n"
          ]
        }
      ]
    },
    {
      "cell_type": "markdown",
      "source": [
        "## 10. Write code to demonstrate type casting with list elements."
      ],
      "metadata": {
        "id": "lWiioN1v_zHU"
      }
    },
    {
      "cell_type": "code",
      "source": [
        "# Original list with mixed types (strings, integers, floats)\n",
        "mixed_list = [\"10\", \"20.5\", \"True\", 30, 40.6]\n",
        "\n",
        "# Type casting elements to different data types\n",
        "\n",
        "# Convert all elements to integers (where possible)\n",
        "int_list = [int(float(item)) if isinstance(item, str) and item.replace('.', '', 1).isdigit() else item for item in mixed_list]\n",
        "print(\"Converted to integers:\", int_list)\n",
        "\n",
        "# Convert all elements to float (where possible)\n",
        "float_list = [float(item) if isinstance(item, (int, str)) and item not in [\"True\", \"False\"] else item for item in mixed_list]\n",
        "print(\"Converted to floats:\", float_list)\n",
        "\n",
        "# Convert all elements to boolean (where possible)\n",
        "bool_list = [bool(item) for item in mixed_list]\n",
        "print(\"Converted to booleans:\", bool_list)\n"
      ],
      "metadata": {
        "colab": {
          "base_uri": "https://localhost:8080/"
        },
        "id": "cF4BLHEeAGgd",
        "outputId": "1ee8ae50-4f01-4cb4-b68e-306620423ca5"
      },
      "execution_count": 9,
      "outputs": [
        {
          "output_type": "stream",
          "name": "stdout",
          "text": [
            "Converted to integers: [10, 20, 'True', 30, 40.6]\n",
            "Converted to floats: [10.0, 20.5, 'True', 30.0, 40.6]\n",
            "Converted to booleans: [True, True, True, True, True]\n"
          ]
        }
      ]
    },
    {
      "cell_type": "markdown",
      "source": [
        "## 11.Write a program that checks if a number is positive, negative, or zero."
      ],
      "metadata": {
        "id": "uLTM4AeSDjdX"
      }
    },
    {
      "cell_type": "code",
      "source": [
        "# Get user input\n",
        "number = float(input(\"Enter a number: \"))\n",
        "\n",
        "# Check if the number is positive, negative, or zero\n",
        "if number > 0:\n",
        "    print(f\"{number} is positive.\")\n",
        "elif number < 0:\n",
        "    print(f\"{number} is negative.\")\n",
        "else:\n",
        "    print(f\"{number} is zero.\")\n"
      ],
      "metadata": {
        "colab": {
          "base_uri": "https://localhost:8080/"
        },
        "id": "NGNRjNWdCHrs",
        "outputId": "d70ebfc4-c0d4-494e-bf55-25c462965e60"
      },
      "execution_count": 10,
      "outputs": [
        {
          "output_type": "stream",
          "name": "stdout",
          "text": [
            "Enter a number: 30\n",
            "30.0 is positive.\n"
          ]
        }
      ]
    },
    {
      "cell_type": "code",
      "source": [
        "# Get user input\n",
        "number = float(input(\"Enter a number: \"))\n",
        "\n",
        "# Check if the number is positive, negative, or zero\n",
        "if number > 0:\n",
        "    print(f\"{number} is positive.\")\n",
        "elif number < 0:\n",
        "    print(f\"{number} is negative.\")\n",
        "else:\n",
        "    print(f\"{number} is zero.\")\n"
      ],
      "metadata": {
        "colab": {
          "base_uri": "https://localhost:8080/"
        },
        "id": "0bYEUCsgDyeV",
        "outputId": "614ea1df-a958-4eec-8946-217f32b9f110"
      },
      "execution_count": 11,
      "outputs": [
        {
          "output_type": "stream",
          "name": "stdout",
          "text": [
            "Enter a number: -7.5\n",
            "-7.5 is negative.\n"
          ]
        }
      ]
    },
    {
      "cell_type": "code",
      "source": [
        "# Get user input\n",
        "number = float(input(\"Enter a number: \"))\n",
        "\n",
        "# Check if the number is positive, negative, or zero\n",
        "if number > 0:\n",
        "    print(f\"{number} is positive.\")\n",
        "elif number < 0:\n",
        "    print(f\"{number} is negative.\")\n",
        "else:\n",
        "    print(f\"{number} is zero.\")\n"
      ],
      "metadata": {
        "colab": {
          "base_uri": "https://localhost:8080/"
        },
        "id": "PeRzxHFWD8Ds",
        "outputId": "1e3a12ab-d9c9-4555-bfac-4b2e953e8962"
      },
      "execution_count": 12,
      "outputs": [
        {
          "output_type": "stream",
          "name": "stdout",
          "text": [
            "Enter a number: 0\n",
            "0.0 is zero.\n"
          ]
        }
      ]
    },
    {
      "cell_type": "markdown",
      "source": [
        "## 12.Write a for loop to print numbers from 1 to 10."
      ],
      "metadata": {
        "id": "8AaZzCTxEHoC"
      }
    },
    {
      "cell_type": "code",
      "source": [
        "# Using a for loop to print numbers from 1 to 10\n",
        "for number in range(1, 11):\n",
        "    print(number)\n"
      ],
      "metadata": {
        "colab": {
          "base_uri": "https://localhost:8080/"
        },
        "id": "G33a9h4lEAsw",
        "outputId": "10de9117-7f45-4e4c-e386-6a0328e684cc"
      },
      "execution_count": 14,
      "outputs": [
        {
          "output_type": "stream",
          "name": "stdout",
          "text": [
            "1\n",
            "2\n",
            "3\n",
            "4\n",
            "5\n",
            "6\n",
            "7\n",
            "8\n",
            "9\n",
            "10\n"
          ]
        }
      ]
    },
    {
      "cell_type": "markdown",
      "source": [
        "## 13.Write a Python program to find the sum of all even numbers between 1 and 500."
      ],
      "metadata": {
        "id": "ELLIm5crEurF"
      }
    },
    {
      "cell_type": "code",
      "source": [
        "# Initialize the sum variable\n",
        "sum_of_evens = 0\n",
        "\n",
        "# Loop through numbers from 1 to 500\n",
        "for number in range(1, 501):\n",
        "    # Check if the number is even\n",
        "    if number % 2 == 0:\n",
        "        sum_of_evens += number  # Add the even number to the sum\n",
        "\n",
        "# Print the sum of even numbers\n",
        "print(\"Sum of all even numbers between 1 and 500 is:\", sum_of_evens)\n"
      ],
      "metadata": {
        "colab": {
          "base_uri": "https://localhost:8080/"
        },
        "id": "2Lbe0dS0EYXe",
        "outputId": "af2e0de6-bc00-4031-aa66-e6d7e82ac5dd"
      },
      "execution_count": 15,
      "outputs": [
        {
          "output_type": "stream",
          "name": "stdout",
          "text": [
            "Sum of all even numbers between 1 and 500 is: 62750\n"
          ]
        }
      ]
    },
    {
      "cell_type": "markdown",
      "source": [
        "## 14.Write a program to reverse a string using a while loop."
      ],
      "metadata": {
        "id": "n5R6VtprFaxy"
      }
    },
    {
      "cell_type": "code",
      "source": [
        "# Input string from the user\n",
        "input_string = input(\"Enter a string: \")\n",
        "\n",
        "# Initialize an empty string to store the reversed string\n",
        "reversed_string = \"\"\n",
        "\n",
        "# Set a counter to the last index of the string\n",
        "index = len(input_string) - 1\n",
        "\n",
        "# Use a while loop to reverse the string\n",
        "while index >= 0:\n",
        "    reversed_string += input_string[index]  # Add the current character to reversed_string\n",
        "    index -= 1  # Decrement the index\n",
        "\n",
        "# Print the reversed string\n",
        "print(\"Reversed string:\", reversed_string)\n"
      ],
      "metadata": {
        "colab": {
          "base_uri": "https://localhost:8080/"
        },
        "id": "PFxV5p1QFQxe",
        "outputId": "7d000972-a6ac-4983-b6ff-44f277d2aba5"
      },
      "execution_count": 16,
      "outputs": [
        {
          "output_type": "stream",
          "name": "stdout",
          "text": [
            "Enter a string: hello\n",
            "Reversed string: olleh\n"
          ]
        }
      ]
    },
    {
      "cell_type": "markdown",
      "source": [
        "## 15.Write a Python program to calculate the factorial of a number provided by the user using a while loop."
      ],
      "metadata": {
        "id": "2QY3hpFKGIli"
      }
    },
    {
      "cell_type": "code",
      "source": [
        "# Get the number from the user\n",
        "number = int(input(\"Enter a number to calculate its factorial: \"))\n",
        "\n",
        "# Initialize variables for factorial calculation\n",
        "factorial = 1\n",
        "counter = 1\n",
        "\n",
        "# Check if the number is non-negative\n",
        "if number < 0:\n",
        "    print(\"Factorial is not defined for negative numbers.\")\n",
        "else:\n",
        "    # Using a while loop to calculate the factorial\n",
        "    while counter <= number:\n",
        "        factorial *= counter  # Multiply factorial by counter\n",
        "        counter += 1  # Increment the counter\n",
        "\n",
        "    # Print the result\n",
        "    print(f\"The factorial of {number} is {factorial}\")\n"
      ],
      "metadata": {
        "colab": {
          "base_uri": "https://localhost:8080/"
        },
        "id": "EpLo366SFt96",
        "outputId": "75f10f0b-b37e-438d-f6f1-171c7a29edd0"
      },
      "execution_count": 18,
      "outputs": [
        {
          "output_type": "stream",
          "name": "stdout",
          "text": [
            "Enter a number to calculate its factorial: 8\n",
            "The factorial of 8 is 40320\n"
          ]
        }
      ]
    },
    {
      "cell_type": "code",
      "source": [],
      "metadata": {
        "id": "Z5juN3nXGh5n"
      },
      "execution_count": null,
      "outputs": []
    }
  ]
}